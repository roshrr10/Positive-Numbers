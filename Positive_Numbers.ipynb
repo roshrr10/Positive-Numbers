{
  "nbformat": 4,
  "nbformat_minor": 0,
  "metadata": {
    "colab": {
      "provenance": []
    },
    "kernelspec": {
      "name": "python3",
      "display_name": "Python 3"
    },
    "language_info": {
      "name": "python"
    }
  },
  "cells": [
    {
      "cell_type": "code",
      "execution_count": 1,
      "metadata": {
        "colab": {
          "base_uri": "https://localhost:8080/"
        },
        "id": "X-MYEykjUR4t",
        "outputId": "3ce79522-efb7-4a7f-f6af-0bb86901fa3b"
      },
      "outputs": [
        {
          "output_type": "stream",
          "name": "stdout",
          "text": [
            "Input: list1 = [12, -7, 5, 64, -14]\n",
            "Output: 12, 5, 64\n",
            "\n",
            "Input: list2 = [12, 14, -95, 3]\n",
            "Output: [12, 14, 3]\n"
          ]
        }
      ],
      "source": [
        "def print_positive_numbers(input_list):\n",
        "    positive_numbers = [num for num in input_list if num > 0]\n",
        "    return positive_numbers\n",
        "\n",
        "def main():\n",
        "    list1 = [12, -7, 5, 64, -14]\n",
        "    list2 = [12, 14, -95, 3]\n",
        "\n",
        "    output1 = print_positive_numbers(list1)\n",
        "    output2 = print_positive_numbers(list2)\n",
        "\n",
        "    print(f\"Input: list1 = {list1}\")\n",
        "    print(f\"Output: {', '.join(map(str, output1))}\")\n",
        "\n",
        "    print(f\"\\nInput: list2 = {list2}\")\n",
        "    print(f\"Output: {output2}\")\n",
        "\n",
        "if __name__ == \"__main__\":\n",
        "    main()\n"
      ]
    }
  ]
}